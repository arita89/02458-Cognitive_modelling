{
 "cells": [
  {
   "cell_type": "markdown",
   "metadata": {},
   "source": [
    "# 02458 COGNITIVE MODELING \n",
    "# Homework 1 - part 1"
   ]
  },
  {
   "cell_type": "markdown",
   "metadata": {},
   "source": [
    "## Definitions \n",
    "\n",
    "The **absolute threshold** (RL Reiz Limen): smallest amount of stimulus energy necessary to produce a sensation. The value of intensity needed to increase the neural activity level above the sensory noise level by some critical amount (a)\n",
    "\n",
    "The **difference threshold** (DL for the German Differenz Limen): amount of change in a stimulus\n",
    "required to produce a **just noticeable difference (JND)** in the sensation.\n",
    "\n",
    "intensity of stimulus = $Φ$ (phi)\n",
    "\n",
    "JND = $ΔΦ$\n",
    "\n",
    "\n",
    "Weber law : $\\frac{ΔΦ}{Φ}= c$\n",
    "\n",
    "Weber law correcte for values close to the absolute threshold:  $(ΔΦ/(a + Φ))= c $\n",
    "\n",
    "### Fechner\n",
    "For Fecher there are 2 dimensions: Stimulus dimension $Φ$ (phi) and Sensation dimension $Ψ$  (psi).\n",
    "\n",
    "JND is a standard unit of SENSATION magnitude, always the same \"size\" per definition.\n",
    "\n",
    "** Fechner logarithmic law $Ψ = k*log(Φ)$ **\n",
    "\n",
    "### Stevens\n",
    "The assumption the JDC is a constant increment in perception for any increment in intensity of the stimuli was WRONG, so JDC cannot be used as a basic unit for sensation magnitude\n",
    "\n",
    "** Stevens power law $Ψ = k*Φ^s $ **\n",
    "\n"
   ]
  },
  {
   "cell_type": "markdown",
   "metadata": {
    "collapsed": true
   },
   "source": [
    "## Resolution and observations\n",
    "We implemented Fechner Law and Stevens law in our code, for both Luminance input and electroshock input.\n",
    "We got the k and the luminance threshold values appling the pseudoinverse matrix in this way:\n",
    "\n",
    "$Perceived_brightness= k*log(\\frac{luminance}{threshold})$\n",
    "\n",
    "$Perceived_brightness= k*log(luminance)-k*log(threshold)$\n",
    "\n",
    "for \n",
    "\n",
    "$k = x_1$\n",
    "\n",
    "$threshold =x_2$\n",
    "\n",
    "$y= x_1*log(luminance)-k*log(x_2)$\n",
    "\n",
    "now \n",
    "\n",
    "$k*log(x_2) = x_3$\n",
    "\n",
    "$y= x_1*log(luminance)-x_3$\n",
    "\n",
    "$y= x_1*A-x_3$\n"
   ]
  },
  {
   "cell_type": "code",
   "execution_count": null,
   "metadata": {
    "collapsed": true
   },
   "outputs": [],
   "source": []
  }
 ],
 "metadata": {
  "anaconda-cloud": {},
  "kernelspec": {
   "display_name": "Python [default]",
   "language": "python",
   "name": "python3"
  },
  "language_info": {
   "codemirror_mode": {
    "name": "ipython",
    "version": 3
   },
   "file_extension": ".py",
   "mimetype": "text/x-python",
   "name": "python",
   "nbconvert_exporter": "python",
   "pygments_lexer": "ipython3",
   "version": "3.5.2"
  }
 },
 "nbformat": 4,
 "nbformat_minor": 1
}
